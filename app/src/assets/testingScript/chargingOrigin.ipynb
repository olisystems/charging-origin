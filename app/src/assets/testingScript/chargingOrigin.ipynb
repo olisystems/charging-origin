{
 "cells": [
  {
   "cell_type": "code",
   "execution_count": 1,
   "metadata": {},
   "outputs": [],
   "source": [
    "# coding: utf-8\n",
    "\n",
    "import json\n",
    "import web3\n",
    "import math\n",
    "import random\n",
    "import time\n",
    "\n",
    "from web3 import Web3, IPCProvider, HTTPProvider"
   ]
  },
  {
   "cell_type": "markdown",
   "metadata": {},
   "source": [
    "Next step: Connect to Client, create 20 Accounts, define a coinbase (=default account)"
   ]
  },
  {
   "cell_type": "code",
   "execution_count": 2,
   "metadata": {},
   "outputs": [],
   "source": [
    "web3 = Web3(HTTPProvider(\"http://80.158.47.134:8545\", request_kwargs={'timeout': 600}))\n",
    "#web3 = Web3(HTTPProvider(\"http://127.0.0.1:8545\", request_kwargs={'timeout': 600}))"
   ]
  },
  {
   "cell_type": "code",
   "execution_count": 3,
   "metadata": {},
   "outputs": [],
   "source": [
    "coinbase = web3.eth.coinbase\n",
    "web3.eth.defaultBlock = \"latest\"\n",
    "transaction = {'from': coinbase}\n",
    "gasPrice = 60"
   ]
  },
  {
   "cell_type": "markdown",
   "metadata": {},
   "source": [
    "Replace The Contract Adresses below to the actual addresses of the contracts on your particular chain! In order to get the contract addresses deploy either with TRUFFLE or REMIX!"
   ]
  },
  {
   "cell_type": "code",
   "execution_count": 4,
   "metadata": {},
   "outputs": [],
   "source": [
    "# defining charging origin contract\n",
    "ChargingOrigin_address = web3.toChecksumAddress(0x383864fd16afa0Af2c5516E73753E4E07e1dE704)\n",
    "ChargingOrigin_abi_str  = '[{\"constant\":true,\"inputs\":[{\"name\":\"\",\"type\":\"uint256\"}],\"name\":\"consumerList\",\"outputs\":[{\"name\":\"\",\"type\":\"address\"}],\"payable\":false,\"stateMutability\":\"view\",\"type\":\"function\"},{\"constant\":true,\"inputs\":[],\"name\":\"totalThuPvProd\",\"outputs\":[{\"name\":\"\",\"type\":\"uint256\"}],\"payable\":false,\"stateMutability\":\"view\",\"type\":\"function\"},{\"constant\":true,\"inputs\":[],\"name\":\"totalExameshWppProd\",\"outputs\":[{\"name\":\"\",\"type\":\"uint256\"}],\"payable\":false,\"stateMutability\":\"view\",\"type\":\"function\"},{\"constant\":true,\"inputs\":[],\"name\":\"totalConsumption\",\"outputs\":[{\"name\":\"\",\"type\":\"uint256\"}],\"payable\":false,\"stateMutability\":\"view\",\"type\":\"function\"},{\"constant\":true,\"inputs\":[],\"name\":\"totalProduction\",\"outputs\":[{\"name\":\"\",\"type\":\"uint256\"}],\"payable\":false,\"stateMutability\":\"view\",\"type\":\"function\"},{\"anonymous\":false,\"inputs\":[{\"indexed\":false,\"name\":\"consumer\",\"type\":\"address\"},{\"indexed\":false,\"name\":\"consumption\",\"type\":\"uint256\"},{\"indexed\":false,\"name\":\"location\",\"type\":\"string\"},{\"indexed\":false,\"name\":\"timestamp\",\"type\":\"uint256\"}],\"name\":\"Consumption\",\"type\":\"event\"},{\"anonymous\":false,\"inputs\":[{\"indexed\":false,\"name\":\"producer\",\"type\":\"address\"},{\"indexed\":false,\"name\":\"name\",\"type\":\"string\"},{\"indexed\":false,\"name\":\"production\",\"type\":\"uint256\"},{\"indexed\":false,\"name\":\"timestamp\",\"type\":\"uint256\"}],\"name\":\"Production\",\"type\":\"event\"},{\"anonymous\":false,\"inputs\":[{\"indexed\":false,\"name\":\"addressCP\",\"type\":\"address\"},{\"indexed\":false,\"name\":\"name\",\"type\":\"string\"},{\"indexed\":false,\"name\":\"latitude\",\"type\":\"uint32\"},{\"indexed\":false,\"name\":\"longitude\",\"type\":\"uint32\"}],\"name\":\"ConsumerRegistration\",\"type\":\"event\"},{\"constant\":false,\"inputs\":[{\"name\":\"_name\",\"type\":\"string\"},{\"name\":\"_latitude\",\"type\":\"uint32\"},{\"name\":\"_longitude\",\"type\":\"uint32\"}],\"name\":\"registerConsumer\",\"outputs\":[],\"payable\":false,\"stateMutability\":\"nonpayable\",\"type\":\"function\"},{\"constant\":false,\"inputs\":[{\"name\":\"_consumption\",\"type\":\"uint256\"},{\"name\":\"_location\",\"type\":\"string\"}],\"name\":\"sendConsumption\",\"outputs\":[],\"payable\":false,\"stateMutability\":\"nonpayable\",\"type\":\"function\"},{\"constant\":false,\"inputs\":[{\"name\":\"_production\",\"type\":\"uint256\"},{\"name\":\"_name\",\"type\":\"string\"}],\"name\":\"sendProduction\",\"outputs\":[],\"payable\":false,\"stateMutability\":\"nonpayable\",\"type\":\"function\"}]'\n",
    "ChargingOrigin_abi      = json.loads(ChargingOrigin_abi_str)\n",
    "ChargingOrigin_contract = web3.eth.contract(abi=ChargingOrigin_abi,address=ChargingOrigin_address)"
   ]
  },
  {
   "cell_type": "code",
   "execution_count": null,
   "metadata": {},
   "outputs": [],
   "source": [
    "# defining energy production contract\n",
    "Test_address = web3.toChecksumAddress(0x394BfB86641Bf8cA8A757a318499A580Cc1f26C6)\n",
    "Test_abi_str  = '[{\"anonymous\":false,\"inputs\":[{\"indexed\":false,\"name\":\"data\",\"type\":\"uint256\"}],\"name\":\"Data\",\"type\":\"event\"},{\"constant\":false,\"inputs\":[{\"name\":\"_data\",\"type\":\"uint256\"}],\"name\":\"setData\",\"outputs\":[],\"payable\":false,\"stateMutability\":\"nonpayable\",\"type\":\"function\"}]'\n",
    "Test_abi      = json.loads(Test_abi_str)\n",
    "Test_contract = web3.eth.contract(abi=Test_abi,address=Test_address)"
   ]
  },
  {
   "cell_type": "code",
   "execution_count": 5,
   "metadata": {},
   "outputs": [],
   "source": [
    "account_0=web3.eth.accounts[0]\n",
    "account_1=web3.eth.accounts[1]\n",
    "account_2=web3.eth.accounts[2]\n",
    "account_3=web3.eth.accounts[3]\n",
    "account_4=web3.eth.accounts[4]\n",
    "account_5=web3.eth.accounts[5]\n",
    "account_6=web3.eth.accounts[6]\n",
    "account_7=web3.eth.accounts[7]\n",
    "account_8=web3.eth.accounts[8]\n",
    "account_9=web3.eth.accounts[9]\n",
    "\n",
    "#account_0=web3.eth.accounts[0]\n",
    "#account_1=web3.eth.accounts[2]\n",
    "#account_2=web3.eth.accounts[4]\n",
    "#account_3=web3.eth.accounts[5]\n",
    "#account_4=web3.eth.accounts[12]\n",
    "#account_5=web3.eth.accounts[14]\n",
    "#account_6=web3.eth.accounts[16]\n",
    "#account_7=web3.eth.accounts[17]\n",
    "#account_8=web3.eth.accounts[26]\n",
    "#account_9=web3.eth.accounts[35]"
   ]
  },
  {
   "cell_type": "code",
   "execution_count": 6,
   "metadata": {},
   "outputs": [
    {
     "name": "stdout",
     "output_type": "stream",
     "text": [
      "0x3D481ee06aFe587dAe5EAFA541c75c3D1F9dCdBc\n",
      "0x4DF329c10Fb40e6d89B2Cf9F89f982727b96D26f\n",
      "0x631cBE70aa9d6a970e19273298692569eAbCF911\n",
      "0x72b71F3BA072741AD81B34C77D4Ea6B608ad5925\n",
      "0x78A6CAa381A6A37512D7Faf300e88eAe304fe9a8\n",
      "0xb420283A384b588E5064C5779Ae6C5798AC729ec\n",
      "0xBA775236C48Cf76028D4586A94B1A5d615371C8f\n",
      "0xcf028FEdF4A17d38ae3c36F287233F4F3Bb0A62B\n",
      "0xCFaCf4dCB23EC2e7f89D5834Be18bf57DdB949D5\n",
      "0xe2e457aB987BEd9AbdEE9410FC985E46e28a3947\n"
     ]
    }
   ],
   "source": [
    "print(account_0)\n",
    "print(account_1)\n",
    "print(account_2)\n",
    "print(account_3)\n",
    "print(account_4)\n",
    "print(account_5)\n",
    "print(account_6)\n",
    "print(account_7)\n",
    "print(account_8)\n",
    "print(account_9)"
   ]
  },
  {
   "cell_type": "code",
   "execution_count": null,
   "metadata": {},
   "outputs": [],
   "source": [
    "# run only once\n",
    "#consumer registration\n",
    "\n",
    "ChargingOrigin_contract.functions.registerConsumer('OLI Charging Station', int(48.78e4), int(9.17e4)).transact({'from': account_0})\n",
    "ChargingOrigin_contract.functions.registerConsumer('CP 2', int(48.65e4), int(9.33e4)).transact({'from': account_1})\n",
    "ChargingOrigin_contract.functions.registerConsumer('CP 3', int(48.96e4), int(9.44e4)).transact({'from': account_2})\n",
    "\n",
    "ChargingOrigin_contract.functions.registerConsumer('CP 4', int(48.47e4), int(9.55e4)).transact({'from': account_3})\n",
    "ChargingOrigin_contract.functions.registerConsumer('CP 5', int(48.58e4), int(9.66e4)).transact({'from': account_4})\n",
    "ChargingOrigin_contract.functions.registerConsumer('CP 6', int(48.89e4), int(9.37e4)).transact({'from': account_5})\n",
    "ChargingOrigin_contract.functions.registerConsumer('CP 7', int(48.35e4), int(9.38e4)).transact({'from': account_6})\n",
    "ChargingOrigin_contract.functions.registerConsumer('CP 8', int(48.44e4), int(9.49e4)).transact({'from': account_7})\n"
   ]
  },
  {
   "cell_type": "code",
   "execution_count": null,
   "metadata": {},
   "outputs": [],
   "source": [
    "print(str(int(48.12e4)/1000), str(int(9.16e4)/1000))\n",
    "\n",
    "print(str(int(48.65e4)/1000), str(int(9.33e4)/1000))\n",
    "\n",
    "print(str(int(48.96e4)/1000), str(int(9.44e4)/1000))\n",
    "\n",
    "print(str(int(48.47e4)/1000), str(int(9.55e4)/1000))\n",
    "\n",
    "print(str(int(48.58e4)/1000), str(int(9.66e4)/1000))\n",
    "\n",
    "print(str(int(48.89e4)/1000), str(int(9.37e4)/1000))\n",
    "\n",
    "print(str(int(48.35e4)/1000), str(int(9.38e4)/1000))\n",
    "\n",
    "print(str(int(48.44e4)/1000), str(int(9.49e4)/1000))"
   ]
  },
  {
   "cell_type": "code",
   "execution_count": null,
   "metadata": {},
   "outputs": [],
   "source": [
    "# energy consumption for charging stations:\n",
    "# three stages: 3,7 kW, 11 kW and 22 kW + 36 kW\n",
    "usedGasForTransaction = 300000\n",
    "run = 1\n",
    "while run == 1:\n",
    "    \n",
    "    try:\n",
    "        \n",
    "        ChargingOrigin_contract.functions.sendConsumption(random.randint(10000, 11000), '48.78 9.17').transact({'from': account_0,  'gas': usedGasForTransaction, 'gasPrice': gasPrice})\n",
    "        ChargingOrigin_contract.functions.sendConsumption(random.randint(21500, 22000), '48.65 9.33').transact({'from': account_1,  'gas': usedGasForTransaction, 'gasPrice': gasPrice})\n",
    "        ChargingOrigin_contract.functions.sendConsumption(random.randint(31500,32000), '48.96 9.44').transact({'from': account_2,  'gas': usedGasForTransaction, 'gasPrice': gasPrice})\n",
    "        ChargingOrigin_contract.functions.sendConsumption(random.randint(32500,33500), '48.47 9.55').transact({'from': account_3,  'gas': usedGasForTransaction, 'gasPrice': gasPrice})\n",
    "        ChargingOrigin_contract.functions.sendConsumption(random.randint(21300,21900), '48.58 9.66').transact({'from': account_4,  'gas': usedGasForTransaction, 'gasPrice': gasPrice})\n",
    "        ChargingOrigin_contract.functions.sendConsumption(random.randint(15000,18500), '48.89 9.37').transact({'from': account_5,  'gas': usedGasForTransaction, 'gasPrice': gasPrice})\n",
    "        ChargingOrigin_contract.functions.sendConsumption(random.randint(30000,31900), '48.35 9.38').transact({'from': account_6,  'gas': usedGasForTransaction, 'gasPrice': gasPrice})\n",
    "        ChargingOrigin_contract.functions.sendConsumption(random.randint(21000,21850), '48.44 9.49').transact({'from': account_7,  'gas': usedGasForTransaction, 'gasPrice': gasPrice})\n",
    "        \n",
    "        ChargingOrigin_contract.functions.sendProduction(random.randint(2000,3000), 'THU PV').transact({'from': account_1,  'gas': usedGasForTransaction, 'gasPrice': gasPrice})\n",
    "        ChargingOrigin_contract.functions.sendProduction(random.randint(1300000, 1400000), 'Examesh WPP').transact({'from': account_2,  'gas': usedGasForTransaction, 'gasPrice': gasPrice})\n",
    "        \n",
    "    except Exception as e:\n",
    "        print (e)\n",
    "        \n",
    "    time.sleep(10)\n",
    "    "
   ]
  },
  {
   "cell_type": "code",
   "execution_count": null,
   "metadata": {},
   "outputs": [],
   "source": [
    "# energy production\n",
    "usedGasForTransaction = 300000\n",
    "run = 1\n",
    "while run == 1:\n",
    "    \n",
    "    try:\n",
    "        \n",
    "        Test_contract.functions.setData(random.randint(1,90)).transact({'from': account_0,  'gas': usedGasForTransaction, 'gasPrice': gasPrice})\n",
    "        \n",
    "    except Exception as e:\n",
    "        print (e)\n",
    "        \n",
    "    time.sleep(10)"
   ]
  },
  {
   "cell_type": "code",
   "execution_count": null,
   "metadata": {},
   "outputs": [],
   "source": []
  }
 ],
 "metadata": {
  "kernelspec": {
   "display_name": "Python 3",
   "language": "python",
   "name": "python3"
  },
  "language_info": {
   "codemirror_mode": {
    "name": "ipython",
    "version": 3
   },
   "file_extension": ".py",
   "mimetype": "text/x-python",
   "name": "python",
   "nbconvert_exporter": "python",
   "pygments_lexer": "ipython3",
   "version": "3.7.4"
  }
 },
 "nbformat": 4,
 "nbformat_minor": 2
}
