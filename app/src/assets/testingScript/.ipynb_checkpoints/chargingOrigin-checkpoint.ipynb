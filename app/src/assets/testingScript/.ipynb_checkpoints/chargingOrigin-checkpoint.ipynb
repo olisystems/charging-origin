{
 "cells": [
  {
   "cell_type": "code",
   "execution_count": 1,
   "metadata": {},
   "outputs": [],
   "source": [
    "# coding: utf-8\n",
    "\n",
    "import json\n",
    "import web3\n",
    "import math\n",
    "import random\n",
    "import time\n",
    "\n",
    "from web3 import Web3, IPCProvider, HTTPProvider"
   ]
  },
  {
   "cell_type": "markdown",
   "metadata": {},
   "source": [
    "Next step: Connect to Client, create 20 Accounts, define a coinbase (=default account)"
   ]
  },
  {
   "cell_type": "code",
   "execution_count": 2,
   "metadata": {},
   "outputs": [],
   "source": [
    "web3 = Web3(HTTPProvider(\"http://80.158.47.134:8545\", request_kwargs={'timeout': 600}))"
   ]
  },
  {
   "cell_type": "code",
   "execution_count": 3,
   "metadata": {},
   "outputs": [],
   "source": [
    "coinbase = web3.eth.coinbase\n",
    "web3.eth.defaultBlock = \"latest\"\n",
    "transaction = {'from': coinbase}\n",
    "gasPrice = 60"
   ]
  },
  {
   "cell_type": "markdown",
   "metadata": {},
   "source": [
    "Replace The Contract Adresses below to the actual addresses of the contracts on your particular chain! In order to get the contract addresses deploy either with TRUFFLE or REMIX!"
   ]
  },
  {
   "cell_type": "code",
   "execution_count": 4,
   "metadata": {},
   "outputs": [],
   "source": [
    "# defining energy production contract\n",
    "ChargingOrigin_address = web3.toChecksumAddress(0xCB152A2Aa90055a0D255cA7dbaeb85eDFdc86096)\n",
    "ChargingOrigin_abi_str  = '[{\"constant\":true,\"inputs\":[],\"name\":\"totalThuPvProd\",\"outputs\":[{\"name\":\"\",\"type\":\"uint256\"}],\"payable\":false,\"stateMutability\":\"view\",\"type\":\"function\"},{\"constant\":true,\"inputs\":[],\"name\":\"totalExameshWppProd\",\"outputs\":[{\"name\":\"\",\"type\":\"uint256\"}],\"payable\":false,\"stateMutability\":\"view\",\"type\":\"function\"},{\"constant\":true,\"inputs\":[],\"name\":\"totalConsumption\",\"outputs\":[{\"name\":\"\",\"type\":\"uint256\"}],\"payable\":false,\"stateMutability\":\"view\",\"type\":\"function\"},{\"constant\":true,\"inputs\":[],\"name\":\"totalProduction\",\"outputs\":[{\"name\":\"\",\"type\":\"uint256\"}],\"payable\":false,\"stateMutability\":\"view\",\"type\":\"function\"},{\"anonymous\":false,\"inputs\":[{\"indexed\":false,\"name\":\"consumer\",\"type\":\"address\"},{\"indexed\":false,\"name\":\"consumption\",\"type\":\"uint256\"},{\"indexed\":false,\"name\":\"timestamp\",\"type\":\"uint256\"}],\"name\":\"Consumption\",\"type\":\"event\"},{\"anonymous\":false,\"inputs\":[{\"indexed\":false,\"name\":\"producer\",\"type\":\"address\"},{\"indexed\":false,\"name\":\"name\",\"type\":\"string\"},{\"indexed\":false,\"name\":\"production\",\"type\":\"uint256\"},{\"indexed\":false,\"name\":\"timestamp\",\"type\":\"uint256\"}],\"name\":\"Production\",\"type\":\"event\"},{\"constant\":false,\"inputs\":[{\"name\":\"_consumption\",\"type\":\"uint256\"}],\"name\":\"sendConsumption\",\"outputs\":[],\"payable\":false,\"stateMutability\":\"nonpayable\",\"type\":\"function\"},{\"constant\":false,\"inputs\":[{\"name\":\"_production\",\"type\":\"uint256\"},{\"name\":\"_name\",\"type\":\"string\"}],\"name\":\"sendProduction\",\"outputs\":[],\"payable\":false,\"stateMutability\":\"nonpayable\",\"type\":\"function\"}]'\n",
    "ChargingOrigin_abi      = json.loads(ChargingOrigin_abi_str)\n",
    "ChargingOrigin_contract = web3.eth.contract(abi=ChargingOrigin_abi,address=ChargingOrigin_address)"
   ]
  },
  {
   "cell_type": "code",
   "execution_count": 5,
   "metadata": {},
   "outputs": [],
   "source": [
    "account_0=web3.eth.accounts[0]\n",
    "account_1=web3.eth.accounts[1]\n",
    "account_2=web3.eth.accounts[2]\n",
    "account_3=web3.eth.accounts[3]\n",
    "account_4=web3.eth.accounts[4]\n",
    "account_5=web3.eth.accounts[5]\n",
    "account_6=web3.eth.accounts[6]\n",
    "account_7=web3.eth.accounts[7]\n",
    "account_8=web3.eth.accounts[8]\n",
    "account_9=web3.eth.accounts[9]\n",
    "\n",
    "#account_0=web3.eth.accounts[0]\n",
    "#account_1=web3.eth.accounts[2]\n",
    "#account_2=web3.eth.accounts[4]\n",
    "#account_3=web3.eth.accounts[5]\n",
    "#account_4=web3.eth.accounts[12]\n",
    "#account_5=web3.eth.accounts[14]\n",
    "#account_6=web3.eth.accounts[16]\n",
    "#account_7=web3.eth.accounts[17]\n",
    "#account_8=web3.eth.accounts[26]\n",
    "#account_9=web3.eth.accounts[35]"
   ]
  },
  {
   "cell_type": "code",
   "execution_count": 6,
   "metadata": {},
   "outputs": [
    {
     "name": "stdout",
     "output_type": "stream",
     "text": [
      "0x3D481ee06aFe587dAe5EAFA541c75c3D1F9dCdBc\n",
      "0x4DF329c10Fb40e6d89B2Cf9F89f982727b96D26f\n",
      "0x631cBE70aa9d6a970e19273298692569eAbCF911\n"
     ]
    }
   ],
   "source": [
    "print(account_0)\n",
    "print(account_1)\n",
    "print(account_2)"
   ]
  },
  {
   "cell_type": "code",
   "execution_count": null,
   "metadata": {},
   "outputs": [],
   "source": [
    "# energy production\n",
    "usedGasForTransaction = 300000\n",
    "run = 1\n",
    "while run == 1:\n",
    "    \n",
    "    try:\n",
    "        \n",
    "        ChargingOrigin_contract.functions.sendConsumption(random.randint(1,100)).transact({'from': account_0,  'gas': usedGasForTransaction, 'gasPrice': gasPrice})\n",
    "        ChargingOrigin_contract.functions.sendProduction(random.randint(3,81), 'THU PV').transact({'from': account_1,  'gas': usedGasForTransaction, 'gasPrice': gasPrice})\n",
    "        time.sleep(8)\n",
    "        ChargingOrigin_contract.functions.sendProduction(random.randint(2,95), 'Examesh WPP').transact({'from': account_2,  'gas': usedGasForTransaction, 'gasPrice': gasPrice})\n",
    "        \n",
    "    except Exception as e:\n",
    "        print (e)\n",
    "        \n",
    "    time.sleep(60)\n",
    "    "
   ]
  },
  {
   "cell_type": "code",
   "execution_count": null,
   "metadata": {},
   "outputs": [],
   "source": [
    "web3.fromWei(web3.eth.getBalance(web3.eth.accounts[9]), 'ether')"
   ]
  },
  {
   "cell_type": "code",
   "execution_count": null,
   "metadata": {},
   "outputs": [],
   "source": [
    "for i in range(0,9):\n",
    "    web3.personal.unlockAccount(web3.eth.accounts[9], 'G7fht1A')\n",
    "    web3.eth.sendTransaction({'from': web3.eth.accounts[9], 'to': web3.eth.accounts[i], 'gasPrice': gasPrice, 'value': 500000000})\n",
    "    time.sleep(1)"
   ]
  },
  {
   "cell_type": "code",
   "execution_count": null,
   "metadata": {},
   "outputs": [],
   "source": [
    "print('before')\n",
    "for i in range (0,10):\n",
    "    print(web3.eth.getBalance(web3.eth.accounts[i]))"
   ]
  },
  {
   "cell_type": "code",
   "execution_count": null,
   "metadata": {},
   "outputs": [],
   "source": [
    "print('after')\n",
    "for i in range (0,10):\n",
    "    print(web3.eth.getBalance(web3.eth.accounts[i]))"
   ]
  },
  {
   "cell_type": "code",
   "execution_count": null,
   "metadata": {},
   "outputs": [],
   "source": [
    "run = 1\n",
    "while run == 1:\n",
    "    \n",
    "    #web3.personal.unlockAccount(web3.eth.coinbase, 'G7fht1A')\n",
    "    transferAmount = round((web3.eth.getBalance(web3.eth.coinbase) * 0.01))\n",
    "    for i in range(0,10):\n",
    "        #web3.personal.unlockAccount(web3.eth.coinbase, 'G7fht1A')\n",
    "        web3.eth.sendTransaction({'to': web3.eth.accounts[i], 'from': web3.eth.coinbase, 'value': transferAmount})\n",
    "    \n",
    "    #time.sleep(3600)"
   ]
  },
  {
   "cell_type": "code",
   "execution_count": null,
   "metadata": {},
   "outputs": [],
   "source": [
    "transferAmount = round((web3.eth.getBalance(web3.eth.coinbase) * 0.01))\n",
    "for i in range(0,10):\n",
    "    #web3.personal.unlockAccount(web3.eth.coinbase, 'G7fht1A')\n",
    "    web3.eth.sendTransaction({'to': web3.eth.accounts[i], 'from': web3.eth.coinbase, 'value': transferAmount})"
   ]
  },
  {
   "cell_type": "code",
   "execution_count": null,
   "metadata": {},
   "outputs": [],
   "source": [
    "web3.eth.accounts"
   ]
  },
  {
   "cell_type": "code",
   "execution_count": null,
   "metadata": {},
   "outputs": [],
   "source": [
    "web3.personal.unlockAccount(web3.eth.accounts[0], 'G7fht1A')"
   ]
  }
 ],
 "metadata": {
  "kernelspec": {
   "display_name": "Python 3",
   "language": "python",
   "name": "python3"
  },
  "language_info": {
   "codemirror_mode": {
    "name": "ipython",
    "version": 3
   },
   "file_extension": ".py",
   "mimetype": "text/x-python",
   "name": "python",
   "nbconvert_exporter": "python",
   "pygments_lexer": "ipython3",
   "version": "3.7.4"
  }
 },
 "nbformat": 4,
 "nbformat_minor": 2
}
